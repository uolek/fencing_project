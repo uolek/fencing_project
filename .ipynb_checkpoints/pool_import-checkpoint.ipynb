{
 "cells": [
  {
   "cell_type": "code",
   "execution_count": 28,
   "metadata": {
    "collapsed": true
   },
   "outputs": [],
   "source": [
    "import numpy as np\n",
    "import datetime\n",
    "import pickle\n",
    "#import pandas as pd"
   ]
  },
  {
   "cell_type": "code",
   "execution_count": 63,
   "metadata": {
    "collapsed": true
   },
   "outputs": [],
   "source": [
    "class FencingPool:\n",
    "    \n",
    "    def __init__(self, ident, imported):\n",
    "        self.ident = ident\n",
    "        self.date = str(datetime.date.today())\n",
    "        self.results = imported[0]\n",
    "        self.names = imported[1]\n",
    "        \n",
    "    def get_results(self):\n",
    "        print(self.results)\n",
    "        \n",
    "        \n",
    "def pool_importer(pool_loc=\"./pool_test_csv.csv\"):\n",
    "    \n",
    "    #types = '<U12,i8,i8,i8'\n",
    "    #pool = np.genfromtxt(\"./pool_test_csv.csv\", delimiter=',', dtype=types, skip_header=1)\n",
    "    \n",
    "    with open(\"./pool_test_csv.csv\") as f:\n",
    "        ncols = len(f.readline().split(','))\n",
    "    pool = np.genfromtxt(\"./pool_test_csv.csv\", delimiter=',', dtype=None, skip_header=1, usecols=range(1,ncols))\n",
    "    names = np.genfromtxt(\"./pool_test_csv.csv\", delimiter=',', dtype='<U12', skip_header=1, usecols=0)\n",
    "    \n",
    "    return pool, names\n",
    "\n",
    "def load_database(filename):\n",
    "    \n",
    "    with open(filename,'rb') as file_object: \n",
    "        db = pickle.load(file_object)\n",
    "    return db\n",
    "    \n",
    "def add_pool_to_database(pool, filename):\n",
    "    \n",
    "    db = load_database(filename)\n",
    "    \n",
    "    for name in pool.names:\n",
    "        if name not in db[0]:\n",
    "            new_id = max(db[1])+1\n",
    "            db[0][name] = new_id\n",
    "            db[1][new_id] = name\n",
    "    \n",
    "    db[2].append(pool)\n",
    "    \n",
    "    with open(filename, 'wb') as file_object:\n",
    "        pickle.dump(db, file_object)\n",
    "    \n",
    "def initialize_database(filename):\n",
    "    \n",
    "    db = [{},{1000: 'no student'},[]]    \n",
    "    with open(filename, 'wb') as file_object:\n",
    "        pickle.dump(db, file_object)\n",
    "        \n",
    "def construct_results_array_from_database(filename):\n",
    "    \n",
    "    db = load_database(filename)\n",
    "    num_fencers = len(database[0])\n",
    "    num_pools = len(database[2])\n",
    "    \n",
    "    results_array = np.zeros((num_pools, num_fencers+1, num_fencers+1), dtype=int)-1\n",
    "    results_array[:,0,1:] = [*database[1].keys()][1:]\n",
    "    results_array[:,1:,0] = [*database[1].keys()][1:]\n",
    "    \n",
    "    for i in range(len(database[2])):\n",
    "        results_array[i,0,0] = database[2][i].ident\n",
    "        results_array[i,1:num_fencers+1,1:num_fencers+1] = database[2][i].results\n",
    "\n",
    "    return results_array\n",
    "    \n",
    "\n",
    "\n",
    "        "
   ]
  },
  {
   "cell_type": "code",
   "execution_count": 64,
   "metadata": {
    "collapsed": true
   },
   "outputs": [],
   "source": [
    "pool1 = FencingPool(1, pool_importer())\n",
    "pool2 = FencingPool(2, pool_importer())\n",
    "pool3 = FencingPool(3, pool_importer())"
   ]
  },
  {
   "cell_type": "code",
   "execution_count": 65,
   "metadata": {
    "collapsed": true
   },
   "outputs": [],
   "source": [
    "filename = 'testfile'"
   ]
  },
  {
   "cell_type": "code",
   "execution_count": 66,
   "metadata": {},
   "outputs": [
    {
     "name": "stdout",
     "output_type": "stream",
     "text": [
      "[{}, {1000: 'no student'}, []]\n"
     ]
    }
   ],
   "source": [
    "initialize_database(filename)\n",
    "database = load_database(filename)\n",
    "print(database)"
   ]
  },
  {
   "cell_type": "code",
   "execution_count": 67,
   "metadata": {},
   "outputs": [
    {
     "name": "stdout",
     "output_type": "stream",
     "text": [
      "[{'Alice': 1001, 'Bob': 1002, 'Chuck': 1003}, {1000: 'no student', 1001: 'Alice', 1002: 'Bob', 1003: 'Chuck'}, [<__main__.FencingPool object at 0x000001DB8A8359B0>, <__main__.FencingPool object at 0x000001DB8A835A90>, <__main__.FencingPool object at 0x000001DB8A835A58>]]\n"
     ]
    }
   ],
   "source": [
    "add_pool_to_database(pool1, filename)\n",
    "add_pool_to_database(pool2, filename)\n",
    "add_pool_to_database(pool3, filename)\n",
    "database = load_database(filename)\n",
    "print(database)"
   ]
  },
  {
   "cell_type": "code",
   "execution_count": null,
   "metadata": {},
   "outputs": [],
   "source": []
  },
  {
   "cell_type": "code",
   "execution_count": null,
   "metadata": {},
   "outputs": [],
   "source": []
  },
  {
   "cell_type": "code",
   "execution_count": 68,
   "metadata": {},
   "outputs": [],
   "source": [
    "results_array = construct_results_array_from_database(filename)"
   ]
  },
  {
   "cell_type": "code",
   "execution_count": 69,
   "metadata": {},
   "outputs": [
    {
     "data": {
      "text/plain": [
       "array([[[   1, 1001, 1002, 1003],\n",
       "        [1001,   -1,    5,    5],\n",
       "        [1002,    3,   -1,    5],\n",
       "        [1003,    1,    2,   -1]],\n",
       "\n",
       "       [[   2, 1001, 1002, 1003],\n",
       "        [1001,   -1,    5,    5],\n",
       "        [1002,    3,   -1,    5],\n",
       "        [1003,    1,    2,   -1]],\n",
       "\n",
       "       [[   3, 1001, 1002, 1003],\n",
       "        [1001,   -1,    5,    5],\n",
       "        [1002,    3,   -1,    5],\n",
       "        [1003,    1,    2,   -1]]])"
      ]
     },
     "execution_count": 69,
     "metadata": {},
     "output_type": "execute_result"
    }
   ],
   "source": [
    "results_array"
   ]
  },
  {
   "cell_type": "code",
   "execution_count": 91,
   "metadata": {},
   "outputs": [
    {
     "data": {
      "text/plain": [
       "array([[1001,   -1,    5,    5],\n",
       "       [1001,   -1,    5,    5],\n",
       "       [1001,   -1,    5,    5]])"
      ]
     },
     "execution_count": 91,
     "metadata": {},
     "output_type": "execute_result"
    }
   ],
   "source": [
    "results_array[results_array[:,0,:] == 1001]"
   ]
  },
  {
   "cell_type": "code",
   "execution_count": null,
   "metadata": {},
   "outputs": [],
   "source": []
  },
  {
   "cell_type": "code",
   "execution_count": 40,
   "metadata": {},
   "outputs": [
    {
     "data": {
      "text/plain": [
       "array([[[  -1, 1001, 1002, 1003],\n",
       "        [1001,   -1,   -1,   -1],\n",
       "        [1002,   -1,   -1,   -1],\n",
       "        [1003,   -1,   -1,   -1]],\n",
       "\n",
       "       [[  -1, 1001, 1002, 1003],\n",
       "        [1001,   -1,   -1,   -1],\n",
       "        [1002,   -1,   -1,   -1],\n",
       "        [1003,   -1,   -1,   -1]]])"
      ]
     },
     "execution_count": 40,
     "metadata": {},
     "output_type": "execute_result"
    }
   ],
   "source": [
    "p = np.zeros((num_pools, num_fencers+1, num_fencers+1), dtype=int)-1\n",
    "p[:,0,1:] = [*database[1].keys()][1:]\n",
    "p[:,1:,0] = [*database[1].keys()][1:]\n",
    "p"
   ]
  },
  {
   "cell_type": "code",
   "execution_count": 39,
   "metadata": {},
   "outputs": [
    {
     "data": {
      "text/plain": [
       "array([[[  -1, 1001, 1002, 1003],\n",
       "        [1001,   -1,    5,    5],\n",
       "        [1002,    3,   -1,    5],\n",
       "        [1003,    1,    2,   -1]],\n",
       "\n",
       "       [[  -1, 1001, 1002, 1003],\n",
       "        [1001,   -1,   -1,   -1],\n",
       "        [1002,   -1,   -1,   -1],\n",
       "        [1003,   -1,   -1,   -1]]])"
      ]
     },
     "execution_count": 39,
     "metadata": {},
     "output_type": "execute_result"
    }
   ],
   "source": [
    "p[0,1:num_fencers+1,1:num_fencers+1] = database[2][0].results\n",
    "p"
   ]
  },
  {
   "cell_type": "code",
   "execution_count": 45,
   "metadata": {},
   "outputs": [],
   "source": [
    "\n",
    "for i in range(len(database[2])):\n",
    "    \n",
    "    p[i,1:num_fencers+1,1:num_fencers+1] = database[2][i].results"
   ]
  },
  {
   "cell_type": "code",
   "execution_count": 46,
   "metadata": {
    "scrolled": true
   },
   "outputs": [
    {
     "data": {
      "text/plain": [
       "array([[[  -1, 1001, 1002, 1003],\n",
       "        [1001,   -1,    5,    5],\n",
       "        [1002,    3,   -1,    5],\n",
       "        [1003,    1,    2,   -1]],\n",
       "\n",
       "       [[  -1, 1001, 1002, 1003],\n",
       "        [1001,   -1,    5,    5],\n",
       "        [1002,    3,   -1,    5],\n",
       "        [1003,    1,    2,   -1]]])"
      ]
     },
     "execution_count": 46,
     "metadata": {},
     "output_type": "execute_result"
    }
   ],
   "source": [
    "p"
   ]
  },
  {
   "cell_type": "code",
   "execution_count": 54,
   "metadata": {},
   "outputs": [
    {
     "data": {
      "text/plain": [
       "2"
      ]
     },
     "execution_count": 54,
     "metadata": {},
     "output_type": "execute_result"
    }
   ],
   "source": [
    "len(p)"
   ]
  },
  {
   "cell_type": "code",
   "execution_count": 168,
   "metadata": {},
   "outputs": [
    {
     "data": {
      "text/plain": [
       "array([['1', '2'],\n",
       "       ['s', 's']], \n",
       "      dtype='<U11')"
      ]
     },
     "execution_count": 168,
     "metadata": {},
     "output_type": "execute_result"
    }
   ],
   "source": [
    "r = np.array([[1,2],['s','s']])\n",
    "r"
   ]
  },
  {
   "cell_type": "code",
   "execution_count": 100,
   "metadata": {},
   "outputs": [
    {
     "data": {
      "text/plain": [
       "(2, 2)"
      ]
     },
     "execution_count": 100,
     "metadata": {},
     "output_type": "execute_result"
    }
   ],
   "source": [
    "r.shape"
   ]
  },
  {
   "cell_type": "code",
   "execution_count": 81,
   "metadata": {
    "collapsed": true
   },
   "outputs": [],
   "source": [
    "p = pool1.results()\n",
    "q = pool2.results()"
   ]
  },
  {
   "cell_type": "code",
   "execution_count": 84,
   "metadata": {},
   "outputs": [
    {
     "data": {
      "text/plain": [
       "array([('Alice', -1,  5,  5), ('Bob',  3, -1,  5), ('Chuck',  1,  2, -1),\n",
       "       ('Alice', -1,  5,  5), ('Bob',  3, -1,  5), ('Chuck',  1,  2, -1)], \n",
       "      dtype=[('f0', '<U12'), ('f1', '<i8'), ('f2', '<i8'), ('f3', '<i8')])"
      ]
     },
     "execution_count": 84,
     "metadata": {},
     "output_type": "execute_result"
    }
   ],
   "source": [
    "r = np.insert(p, p.shape[0] , q, axis=0)\n",
    "r"
   ]
  },
  {
   "cell_type": "code",
   "execution_count": 88,
   "metadata": {},
   "outputs": [
    {
     "data": {
      "text/plain": [
       "(6,)"
      ]
     },
     "execution_count": 88,
     "metadata": {},
     "output_type": "execute_result"
    }
   ],
   "source": [
    "r.shape"
   ]
  },
  {
   "cell_type": "code",
   "execution_count": 92,
   "metadata": {},
   "outputs": [
    {
     "data": {
      "text/plain": [
       "array([('Alice', -1,  5,  5), ('Bob',  3, -1,  5), ('Chuck',  1,  2, -1)], \n",
       "      dtype=[('f0', '<U12'), ('f1', '<i8'), ('f2', '<i8'), ('f3', '<i8')])"
      ]
     },
     "execution_count": 92,
     "metadata": {},
     "output_type": "execute_result"
    }
   ],
   "source": [
    "p"
   ]
  },
  {
   "cell_type": "code",
   "execution_count": 63,
   "metadata": {
    "collapsed": true
   },
   "outputs": [],
   "source": [
    "types = '<U12,i8,i8,i8'\n",
    "\n",
    "with open(\"./pool_test_csv.csv\") as f:\n",
    "    ncols = len(f.readline().split(','))\n",
    "pool = np.genfromtxt(\"./pool_test_csv.csv\", delimiter=',', dtype=None, skip_header=1, usecols=range(1,ncols))\n",
    "names = np.genfromtxt(\"./pool_test_csv.csv\", delimiter=',', dtype='<U12', skip_header=1, usecols=0)"
   ]
  },
  {
   "cell_type": "code",
   "execution_count": 64,
   "metadata": {},
   "outputs": [
    {
     "data": {
      "text/plain": [
       "array([[-1,  5,  5],\n",
       "       [ 3, -1,  5],\n",
       "       [ 1,  2, -1]])"
      ]
     },
     "execution_count": 64,
     "metadata": {},
     "output_type": "execute_result"
    }
   ],
   "source": [
    "pool"
   ]
  },
  {
   "cell_type": "code",
   "execution_count": 65,
   "metadata": {},
   "outputs": [
    {
     "data": {
      "text/plain": [
       "'Alice'"
      ]
     },
     "execution_count": 65,
     "metadata": {},
     "output_type": "execute_result"
    }
   ],
   "source": [
    "names[0]"
   ]
  },
  {
   "cell_type": "code",
   "execution_count": 109,
   "metadata": {},
   "outputs": [
    {
     "ename": "ValueError",
     "evalue": "cannot reshape array of size 3 into shape (3,4)",
     "output_type": "error",
     "traceback": [
      "\u001b[1;31m---------------------------------------------------------------------------\u001b[0m",
      "\u001b[1;31mValueError\u001b[0m                                Traceback (most recent call last)",
      "\u001b[1;32m<ipython-input-109-5ba279b5c4eb>\u001b[0m in \u001b[0;36m<module>\u001b[1;34m()\u001b[0m\n\u001b[1;32m----> 1\u001b[1;33m \u001b[0mpool\u001b[0m\u001b[1;33m.\u001b[0m\u001b[0mreshape\u001b[0m\u001b[1;33m(\u001b[0m\u001b[1;33m(\u001b[0m\u001b[1;36m3\u001b[0m\u001b[1;33m,\u001b[0m\u001b[1;36m4\u001b[0m\u001b[1;33m)\u001b[0m\u001b[1;33m)\u001b[0m\u001b[1;33m\u001b[0m\u001b[0m\n\u001b[0m",
      "\u001b[1;31mValueError\u001b[0m: cannot reshape array of size 3 into shape (3,4)"
     ]
    }
   ],
   "source": [
    "pool.reshape((3,4))"
   ]
  },
  {
   "cell_type": "code",
   "execution_count": 119,
   "metadata": {},
   "outputs": [
    {
     "data": {
      "text/plain": [
       "array([('Alice', -1,  5,  5), ('Bob',  3, -1,  5), ('Chuck',  1,  2, -1)], \n",
       "      dtype=[('f0', '<U12'), ('f1', '<i8'), ('f2', '<i8'), ('f3', '<i8')])"
      ]
     },
     "execution_count": 119,
     "metadata": {},
     "output_type": "execute_result"
    }
   ],
   "source": [
    "pool1.results()"
   ]
  },
  {
   "cell_type": "code",
   "execution_count": 111,
   "metadata": {},
   "outputs": [
    {
     "data": {
      "text/plain": [
       "[0]"
      ]
     },
     "execution_count": 111,
     "metadata": {},
     "output_type": "execute_result"
    }
   ],
   "source": [
    "[0]"
   ]
  },
  {
   "cell_type": "code",
   "execution_count": 115,
   "metadata": {},
   "outputs": [
    {
     "data": {
      "text/plain": [
       "array([ 0.,  0.,  0.])"
      ]
     },
     "execution_count": 115,
     "metadata": {},
     "output_type": "execute_result"
    }
   ],
   "source": [
    "k = np.zeros(3)\n",
    "k"
   ]
  },
  {
   "cell_type": "code",
   "execution_count": 167,
   "metadata": {},
   "outputs": [
    {
     "data": {
      "text/plain": [
       "array(['1', 'a', '2'], \n",
       "      dtype='<U11')"
      ]
     },
     "execution_count": 167,
     "metadata": {},
     "output_type": "execute_result"
    }
   ],
   "source": [
    "np.array([1,'a',2])"
   ]
  },
  {
   "cell_type": "code",
   "execution_count": 10,
   "metadata": {
    "collapsed": true
   },
   "outputs": [],
   "source": [
    "fd = {'Alice': 3}"
   ]
  },
  {
   "cell_type": "code",
   "execution_count": 11,
   "metadata": {},
   "outputs": [
    {
     "data": {
      "text/plain": [
       "3"
      ]
     },
     "execution_count": 11,
     "metadata": {},
     "output_type": "execute_result"
    }
   ],
   "source": [
    "fd['Alice']"
   ]
  },
  {
   "cell_type": "code",
   "execution_count": 14,
   "metadata": {
    "collapsed": true
   },
   "outputs": [],
   "source": [
    "k = [[1],[2]]"
   ]
  },
  {
   "cell_type": "code",
   "execution_count": 18,
   "metadata": {
    "collapsed": true
   },
   "outputs": [],
   "source": [
    "k[1].append(3)"
   ]
  },
  {
   "cell_type": "code",
   "execution_count": 19,
   "metadata": {},
   "outputs": [
    {
     "data": {
      "text/plain": [
       "[[1], [2, 3]]"
      ]
     },
     "execution_count": 19,
     "metadata": {},
     "output_type": "execute_result"
    }
   ],
   "source": [
    "k"
   ]
  },
  {
   "cell_type": "code",
   "execution_count": 29,
   "metadata": {
    "collapsed": true
   },
   "outputs": [],
   "source": [
    "p ={'k': 3}"
   ]
  },
  {
   "cell_type": "code",
   "execution_count": 146,
   "metadata": {},
   "outputs": [
    {
     "data": {
      "text/plain": [
       "'s'"
      ]
     },
     "execution_count": 146,
     "metadata": {},
     "output_type": "execute_result"
    }
   ],
   "source": [
    "max(p)"
   ]
  },
  {
   "cell_type": "code",
   "execution_count": 145,
   "metadata": {},
   "outputs": [
    {
     "data": {
      "text/plain": [
       "False"
      ]
     },
     "execution_count": 145,
     "metadata": {},
     "output_type": "execute_result"
    }
   ],
   "source": [
    "'t' in p"
   ]
  },
  {
   "cell_type": "code",
   "execution_count": 41,
   "metadata": {
    "collapsed": true
   },
   "outputs": [],
   "source": [
    "p['q'] =3"
   ]
  },
  {
   "cell_type": "code",
   "execution_count": 165,
   "metadata": {},
   "outputs": [
    {
     "data": {
      "text/plain": [
       "3"
      ]
     },
     "execution_count": 165,
     "metadata": {},
     "output_type": "execute_result"
    }
   ],
   "source": [
    "len(p)"
   ]
  },
  {
   "cell_type": "code",
   "execution_count": 50,
   "metadata": {},
   "outputs": [
    {
     "name": "stdout",
     "output_type": "stream",
     "text": [
      "1\n"
     ]
    }
   ],
   "source": [
    "try:\n",
    "    print(p['s'])\n",
    "except:\n",
    "    p['s'] = 1"
   ]
  },
  {
   "cell_type": "code",
   "execution_count": 51,
   "metadata": {},
   "outputs": [
    {
     "data": {
      "text/plain": [
       "{'k': 3, 'q': 3, 's': 1}"
      ]
     },
     "execution_count": 51,
     "metadata": {},
     "output_type": "execute_result"
    }
   ],
   "source": [
    "p"
   ]
  },
  {
   "cell_type": "code",
   "execution_count": 52,
   "metadata": {},
   "outputs": [
    {
     "data": {
      "text/plain": [
       "{}"
      ]
     },
     "execution_count": 52,
     "metadata": {},
     "output_type": "execute_result"
    }
   ],
   "source": [
    "{}"
   ]
  },
  {
   "cell_type": "code",
   "execution_count": 68,
   "metadata": {
    "collapsed": true
   },
   "outputs": [],
   "source": [
    "def g():\n",
    "    return 3, 4"
   ]
  },
  {
   "cell_type": "code",
   "execution_count": 70,
   "metadata": {},
   "outputs": [
    {
     "data": {
      "text/plain": [
       "(3, 4)"
      ]
     },
     "execution_count": 70,
     "metadata": {},
     "output_type": "execute_result"
    }
   ],
   "source": [
    "g()"
   ]
  },
  {
   "cell_type": "code",
   "execution_count": 147,
   "metadata": {},
   "outputs": [
    {
     "ename": "ValueError",
     "evalue": "max() arg is an empty sequence",
     "output_type": "error",
     "traceback": [
      "\u001b[1;31m---------------------------------------------------------------------------\u001b[0m",
      "\u001b[1;31mValueError\u001b[0m                                Traceback (most recent call last)",
      "\u001b[1;32m<ipython-input-147-8d2766aecf92>\u001b[0m in \u001b[0;36m<module>\u001b[1;34m()\u001b[0m\n\u001b[1;32m----> 1\u001b[1;33m \u001b[0mmax\u001b[0m\u001b[1;33m(\u001b[0m\u001b[1;33m[\u001b[0m\u001b[1;33m]\u001b[0m\u001b[1;33m)\u001b[0m\u001b[1;33m\u001b[0m\u001b[0m\n\u001b[0m",
      "\u001b[1;31mValueError\u001b[0m: max() arg is an empty sequence"
     ]
    }
   ],
   "source": [
    "max([])"
   ]
  },
  {
   "cell_type": "code",
   "execution_count": null,
   "metadata": {
    "collapsed": true
   },
   "outputs": [],
   "source": []
  }
 ],
 "metadata": {
  "kernelspec": {
   "display_name": "Python 3",
   "language": "python",
   "name": "python3"
  },
  "language_info": {
   "codemirror_mode": {
    "name": "ipython",
    "version": 3
   },
   "file_extension": ".py",
   "mimetype": "text/x-python",
   "name": "python",
   "nbconvert_exporter": "python",
   "pygments_lexer": "ipython3",
   "version": "3.6.1"
  }
 },
 "nbformat": 4,
 "nbformat_minor": 2
}
